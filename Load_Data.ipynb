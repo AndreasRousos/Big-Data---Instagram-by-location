{
 "cells": [
  {
   "cell_type": "code",
   "execution_count": 11,
   "id": "24a2a9aa",
   "metadata": {
    "ExecuteTime": {
     "end_time": "2022-12-23T00:06:37.680074Z",
     "start_time": "2022-12-23T00:06:37.460961Z"
    }
   },
   "outputs": [],
   "source": [
    "import os, pandas as pd\n",
    "import numpy as np\n",
    "import datetime as dt\n",
    "import time\n",
    "\n",
    "from pyspark.context import SparkContext, SparkConf\n",
    "from pyspark.sql import *\n",
    "from pyspark.sql.types import *\n",
    "from pyspark.sql.functions import *"
   ]
  },
  {
   "cell_type": "markdown",
   "id": "f3dd6b33",
   "metadata": {},
   "source": [
    "# Dataset"
   ]
  },
  {
   "cell_type": "markdown",
   "id": "b8fa01da",
   "metadata": {},
   "source": [
    "The dataset can be downloaded from: https://www.kaggle.com/datasets/shmalex/instagram-dataset?select=instagram_locations.csv\n",
    "\n",
    "It contains information on 42M Posts, 1.2M Locations and 4.5M Profiles from Instagram from 2010 to 2019."
   ]
  },
  {
   "cell_type": "markdown",
   "id": "eee08104",
   "metadata": {},
   "source": [
    "# Firestore"
   ]
  },
  {
   "cell_type": "code",
   "execution_count": 28,
   "id": "4ce07992",
   "metadata": {},
   "outputs": [
    {
     "name": "stdout",
     "output_type": "stream",
     "text": [
      "env: GOOGLE_APPLICATION_CREDENTIALS=/Users/andreasrousos/Desktop/Fall 2022/Big Data/final project/final-project-372202-aaf7027fa45e.json\n"
     ]
    }
   ],
   "source": [
    "%env GOOGLE_APPLICATION_CREDENTIALS=/Users/andreasrousos/Desktop/Fall 2022/Big Data/final project/final-project-372202-aaf7027fa45e.json"
   ]
  },
  {
   "cell_type": "markdown",
   "id": "65e7ee71",
   "metadata": {},
   "source": [
    "Data was uploaded to Google Cloud's Firestore using the Firefoo GUI, used for easier browsing, querying and editing Firestore data. Trial version of Firefoo was available for 2 weeks.\n",
    "\n",
    "more info on:  \n",
    "https://firefoo.app/"
   ]
  },
  {
   "cell_type": "markdown",
   "id": "8496cc47",
   "metadata": {},
   "source": [
    "Users were added later to Firestore, using batches as advised by the docs."
   ]
  },
  {
   "cell_type": "code",
   "execution_count": 29,
   "id": "f7250edf",
   "metadata": {},
   "outputs": [],
   "source": [
    "from google.cloud import firestore\n",
    "\n",
    "db = firestore.Client()"
   ]
  },
  {
   "cell_type": "code",
   "execution_count": 30,
   "id": "b2a01af6",
   "metadata": {},
   "outputs": [],
   "source": [
    "batch_size=499\n",
    "for i in range(0,len(user_list), batch_size):\n",
    "    list_batch=user_list[i:i+batch_size]\n",
    "    batch = db.batch()\n",
    "    for item in list_batch:\n",
    "        doc_ref = db.collection(u'users').document(str(item['sid']))\n",
    "        doc_ref.set(item)\n",
    "    batch.commit()"
   ]
  },
  {
   "cell_type": "code",
   "execution_count": 83,
   "id": "8e3695e2",
   "metadata": {},
   "outputs": [],
   "source": [
    "posts_ref=db.collection('instagram_posts')\n",
    "user_ref=db.collection('users')\n",
    "locs_ref=db.collection('locations')\n",
    "demo_ref=db.collection('posts_demo')"
   ]
  },
  {
   "cell_type": "markdown",
   "id": "6949d364",
   "metadata": {},
   "source": [
    "## Queries\n",
    "\n",
    "Lets query some data to check if everything is working fine, and explore part of the data."
   ]
  },
  {
   "cell_type": "markdown",
   "id": "551a1781",
   "metadata": {},
   "source": [
    "First, lets find the 10 most liked posts in the dataset that also have location info provided:"
   ]
  },
  {
   "cell_type": "code",
   "execution_count": 84,
   "id": "eb4d3b9b",
   "metadata": {
    "scrolled": true
   },
   "outputs": [],
   "source": [
    "#This query required a composite index that was created on Firebase\n",
    "#order_by location_id was used to filter out documents that dont have location info.\n",
    "\n",
    "top10_posts=posts_ref.order_by('location_id',direction=firestore.Query.DESCENDING)\\\n",
    "                    .order_by('numbr_likes',direction=firestore.Query.DESCENDING)\\\n",
    "                    .limit(10).get()\n",
    "\n",
    "import pprint\n",
    "\n",
    "top10_list=[doc.to_dict() for doc in top10_posts]\n",
    "for doc in top10_list:\n",
    "    pprint.pprint(doc)\n",
    "    print('\\n')"
   ]
  },
  {
   "cell_type": "markdown",
   "id": "bec8ca35",
   "metadata": {},
   "source": [
    "Let's also check if we have users with more than 5M followers."
   ]
  },
  {
   "cell_type": "code",
   "execution_count": 161,
   "id": "d4e847bf",
   "metadata": {
    "scrolled": false
   },
   "outputs": [
    {
     "name": "stdout",
     "output_type": "stream",
     "text": [
      "{'cts': '2019-08-03 09:49:20.138 -0400',\n",
      " 'description': 'Actress @ayamjerit @vavacake_premiumcake @kamaliabeauty '\n",
      "                '@villakamalia @villajunabali  @titidantian @bumbubytitikamal '\n",
      "                '\\\\nYoutube channel: Titi Dan Tian',\n",
      " 'firstname_lastname': 'Titi Kamal',\n",
      " 'followers': 9066869.0,\n",
      " 'following': 895.0,\n",
      " 'is_business_account': True,\n",
      " 'n_posts': 3840.0,\n",
      " 'profile_id': 29837504.0,\n",
      " 'profile_name': 'titi_kamall',\n",
      " 'sid': 4218652,\n",
      " 'url': 'youtu.be/Bl1NS5BWDFw'}\n",
      "\n",
      "\n",
      "{'cts': '2019-08-03 06:45:44.197 -0400',\n",
      " 'description': '@Chermarn arn.collection @misswintersnow #chermarnishappy',\n",
      " 'firstname_lastname': 'Chermarn Boonyasak',\n",
      " 'followers': 7510511.0,\n",
      " 'following': 1160.0,\n",
      " 'is_business_account': False,\n",
      " 'n_posts': 8224.0,\n",
      " 'profile_id': 3896328.0,\n",
      " 'profile_name': 'chermarn',\n",
      " 'sid': 4216424,\n",
      " 'url': nan}\n",
      "\n",
      "\n",
      "{'cts': '2019-08-02 18:38:47.794 -0400',\n",
      " 'description': 'Periodista, conductor y productor. Vice Presidente de San '\n",
      "                'Lorenzo de Almagro',\n",
      " 'firstname_lastname': 'Marcelo Tinelli',\n",
      " 'followers': 6748205.0,\n",
      " 'following': 93.0,\n",
      " 'is_business_account': False,\n",
      " 'n_posts': 1012.0,\n",
      " 'profile_id': 299249586.0,\n",
      " 'profile_name': 'marcelotinelli',\n",
      " 'sid': 4207075,\n",
      " 'url': 'm.facebook.com/marcelotinelli'}\n",
      "\n",
      "\n"
     ]
    }
   ],
   "source": [
    "most_followers=user_ref.where('followers','>',5000000)\\\n",
    "                        .order_by('followers',direction=firestore.Query.DESCENDING)\\\n",
    "                        .get()\n",
    "\n",
    "for user in most_followers:\n",
    "    pprint.pprint(user.to_dict())\n",
    "    print('\\n')"
   ]
  },
  {
   "cell_type": "markdown",
   "id": "d26befed",
   "metadata": {},
   "source": [
    "Since the query operators are limited in NoSQL DBs there is only so much that we can query. More queries can be easily applied through the Google Cloud Platform's Firestore Query builder. "
   ]
  },
  {
   "cell_type": "markdown",
   "id": "ddec9d9b",
   "metadata": {},
   "source": [
    "# Convert to JSON"
   ]
  },
  {
   "cell_type": "markdown",
   "id": "ab08cb56",
   "metadata": {},
   "source": [
    "I converted everything to a JSON format, which has a closer structure to the Documents in Firestore. This was done for data processing purposes, as querying the database each time to process data for the project would be costly (Firestore's charges for reads). So this is equivalent to exporting the data from Firestore once (read 1 time only), and use them for data processing or uploading it to a cluster."
   ]
  },
  {
   "cell_type": "code",
   "execution_count": 2,
   "id": "8ad679c6",
   "metadata": {
    "scrolled": true
   },
   "outputs": [
    {
     "name": "stdout",
     "output_type": "stream",
     "text": [
      "23/01/18 07:49:24 WARN Utils: Your hostname, Andreass-MacBook-Air.local resolves to a loopback address: 127.0.0.1; using 192.168.0.10 instead (on interface en0)\n",
      "23/01/18 07:49:24 WARN Utils: Set SPARK_LOCAL_IP if you need to bind to another address\n"
     ]
    },
    {
     "name": "stderr",
     "output_type": "stream",
     "text": [
      "Setting default log level to \"WARN\".\n",
      "To adjust logging level use sc.setLogLevel(newLevel). For SparkR, use setLogLevel(newLevel).\n"
     ]
    },
    {
     "name": "stdout",
     "output_type": "stream",
     "text": [
      "23/01/18 07:49:25 WARN NativeCodeLoader: Unable to load native-hadoop library for your platform... using builtin-java classes where applicable\n",
      "23/01/18 07:49:26 WARN Utils: Service 'SparkUI' could not bind on port 4040. Attempting port 4041.\n"
     ]
    }
   ],
   "source": [
    "conf = SparkConf().setMaster('local[*]') \n",
    "sc = SparkContext.getOrCreate(conf)\n",
    "spark = SparkSession(sc)"
   ]
  },
  {
   "cell_type": "markdown",
   "id": "d43c394d",
   "metadata": {},
   "source": [
    "## Schemata"
   ]
  },
  {
   "cell_type": "markdown",
   "id": "946fcba4",
   "metadata": {},
   "source": [
    "The below schemata were used to enforce some datatypes and some structure to the data."
   ]
  },
  {
   "cell_type": "code",
   "execution_count": 3,
   "id": "a69ccff1",
   "metadata": {
    "code_folding": [
     0
    ]
   },
   "outputs": [],
   "source": [
    "user_schema=StructType([\n",
    "    StructField('sid', LongType(), True),\n",
    "    StructField('profile_id', LongType(), True),\n",
    "    StructField('profile_name', StringType(), True),\n",
    "    StructField('firstname_lastname', StringType(), True),\n",
    "    StructField('description', StringType(), True),\n",
    "    StructField('following', IntegerType(), True),\n",
    "    StructField('followers', IntegerType(), True),\n",
    "    StructField('n_posts', IntegerType(), True),\n",
    "    StructField('url', StringType(), True),\n",
    "    StructField('cts', TimestampType(), True),\n",
    "    StructField('is_business_account', StringType(), True)\n",
    "])"
   ]
  },
  {
   "cell_type": "code",
   "execution_count": 4,
   "id": "81a0f4ba",
   "metadata": {
    "code_folding": [
     0
    ]
   },
   "outputs": [],
   "source": [
    "loc_schema=StructType([\n",
    "    StructField('sid', LongType(), True),\n",
    "    StructField('id', LongType(), True),\n",
    "    StructField('name', StringType(), True),\n",
    "    StructField('street', StringType(), True),\n",
    "    StructField('zip', StringType(), True),\n",
    "    StructField('city', StringType(), True),\n",
    "    StructField('region', StringType(), True),\n",
    "    StructField('cd', StringType(), True),\n",
    "    StructField('phone', StringType(), True),\n",
    "    StructField('aj_exact_city_match', StringType(), True),\n",
    "    StructField('aj_exact_country_match', StringType(), True),\n",
    "    StructField('blurb', StringType(), True),\n",
    "    StructField('dir_city_id', StringType(), True),\n",
    "    StructField('dir_city_name', StringType(), True),\n",
    "    StructField('dir_city_slug', StringType(), True),\n",
    "    StructField('dir_country_id', StringType(), True),\n",
    "    StructField('dir_country_name', StringType(), True),\n",
    "    StructField('lat', DoubleType(), True), \n",
    "    StructField('lng', DoubleType(), True),\n",
    "    StructField('primary_alias_on_fb', StringType(), True),\n",
    "    StructField('slug', StringType(), True),\n",
    "    StructField('website', StringType(), True),\n",
    "    StructField('cts', TimestampType(), True)\n",
    "])"
   ]
  },
  {
   "cell_type": "code",
   "execution_count": 5,
   "id": "d9af9ffb",
   "metadata": {
    "code_folding": [
     0
    ]
   },
   "outputs": [],
   "source": [
    "post_schema = StructType([\n",
    "    StructField('sid', IntegerType(), False),\n",
    "    StructField('sid_profile', IntegerType(), False),\n",
    "    StructField('post_id', StringType(), False),\n",
    "    StructField('profile_id', IntegerType(), False),\n",
    "    StructField('location_id', IntegerType(), True),\n",
    "    StructField('cts', TimestampType(), False),\n",
    "    StructField('post_type', IntegerType(), True),\n",
    "    StructField('description', StringType(), True),\n",
    "    StructField('numbr_likes', IntegerType(), True),\n",
    "    StructField('number_comments', IntegerType(), True)\n",
    "])"
   ]
  },
  {
   "cell_type": "markdown",
   "id": "ae75242f",
   "metadata": {},
   "source": [
    "## Collections"
   ]
  },
  {
   "cell_type": "code",
   "execution_count": 6,
   "id": "e5088c57",
   "metadata": {},
   "outputs": [],
   "source": [
    "users_df = spark.read.load(\"archive/instagram_profiles.csv\", \\\n",
    "    format=\"csv\", \n",
    "    sep=\"\\t\",\n",
    "    schema=user_schema,\n",
    "    header=\"true\")\n",
    "\n",
    "users_df.coalesce(1).write.json('data/users.json')"
   ]
  },
  {
   "cell_type": "code",
   "execution_count": 7,
   "id": "8c827a99",
   "metadata": {},
   "outputs": [],
   "source": [
    "locations_df = spark.read.load(\"archive/instagram_locations.csv\", \\\n",
    "    format=\"csv\", \n",
    "    sep=\"\\t\",\n",
    "    schema=loc_schema,\n",
    "    header=\"true\")\n",
    "\n",
    "locations_df.coalesce(1).write.json('data/locations.json')"
   ]
  },
  {
   "cell_type": "code",
   "execution_count": 8,
   "id": "39b550c0",
   "metadata": {
    "scrolled": false
   },
   "outputs": [],
   "source": [
    "posts_df = spark.read.load(\"archive/instagram_posts.csv\", \\\n",
    "    format=\"csv\", \n",
    "    sep=\"\\t\",\n",
    "    schema=post_schema,\n",
    "    header=\"true\")\n",
    "\n",
    "posts_df.coalesce(1).write.json('data/posts.json')"
   ]
  },
  {
   "cell_type": "markdown",
   "id": "3d97093d",
   "metadata": {},
   "source": [
    "## Data for Streaming Demo"
   ]
  },
  {
   "cell_type": "markdown",
   "id": "0d8d88e3",
   "metadata": {},
   "source": [
    "For the streaming data demonstration we will need the last 30 days of posts from the dataset for which we have location information."
   ]
  },
  {
   "cell_type": "code",
   "execution_count": 10,
   "id": "b2f9762c",
   "metadata": {},
   "outputs": [
    {
     "name": "stderr",
     "output_type": "stream",
     "text": [
      "                                                                                \r"
     ]
    },
    {
     "data": {
      "text/plain": [
       "20426102"
      ]
     },
     "execution_count": 10,
     "metadata": {},
     "output_type": "execute_result"
    }
   ],
   "source": [
    "posts_df=posts_df.dropna(subset=['location_id'])\n",
    "posts_df.count()"
   ]
  },
  {
   "cell_type": "code",
   "execution_count": 82,
   "id": "758a9516",
   "metadata": {},
   "outputs": [
    {
     "name": "stderr",
     "output_type": "stream",
     "text": [
      "[Stage 68:=======================================================>(95 + 1) / 96]\r"
     ]
    },
    {
     "name": "stdout",
     "output_type": "stream",
     "text": [
      "period_start: 2019-07-31 06:21:59 \n",
      "period_end: 2019-08-30 06:21:59\n"
     ]
    },
    {
     "name": "stderr",
     "output_type": "stream",
     "text": [
      "\r",
      "                                                                                \r"
     ]
    }
   ],
   "source": [
    "max_date = posts_df.agg({\"cts\": \"max\"}).collect()[0][0]\n",
    "d=max_date-dt.timedelta(days=30)\n",
    "print('period_start:',d,'\\nperiod_end:',max_date)"
   ]
  },
  {
   "cell_type": "code",
   "execution_count": 14,
   "id": "136f6963",
   "metadata": {},
   "outputs": [
    {
     "name": "stderr",
     "output_type": "stream",
     "text": [
      "                                                                                \r"
     ]
    },
    {
     "data": {
      "text/plain": [
       "270431"
      ]
     },
     "execution_count": 14,
     "metadata": {},
     "output_type": "execute_result"
    }
   ],
   "source": [
    "last_month_df=posts_df.filter(posts_df.cts > d).sort('cts')\n",
    "last_month_df.count()"
   ]
  },
  {
   "cell_type": "markdown",
   "id": "2ca44ee0",
   "metadata": {},
   "source": [
    "Now that the data has been reduced significantly, let's also add some location details by joining some attributes from the location data."
   ]
  },
  {
   "cell_type": "code",
   "execution_count": 15,
   "id": "c07c0f3d",
   "metadata": {},
   "outputs": [],
   "source": [
    "loc_summarized=locations_df.select('id','name','city','cd')"
   ]
  },
  {
   "cell_type": "code",
   "execution_count": 70,
   "id": "c59d1f57",
   "metadata": {},
   "outputs": [
    {
     "name": "stdout",
     "output_type": "stream",
     "text": [
      "root\n",
      " |-- sid: integer (nullable = true)\n",
      " |-- sid_profile: integer (nullable = true)\n",
      " |-- post_id: string (nullable = true)\n",
      " |-- profile_id: integer (nullable = true)\n",
      " |-- location_id: integer (nullable = true)\n",
      " |-- cts: timestamp (nullable = true)\n",
      " |-- post_type: integer (nullable = true)\n",
      " |-- description: string (nullable = true)\n",
      " |-- numbr_likes: integer (nullable = true)\n",
      " |-- number_comments: integer (nullable = true)\n",
      " |-- id: long (nullable = true)\n",
      " |-- name: string (nullable = true)\n",
      " |-- city: string (nullable = true)\n",
      " |-- cd: string (nullable = true)\n",
      "\n"
     ]
    }
   ],
   "source": [
    "joined_df=last_month_df.join(loc_summarized,\n",
    "              last_month_df.location_id== loc_summarized.id,\n",
    "              how='inner')\n",
    "joined_df.printSchema()"
   ]
  },
  {
   "cell_type": "code",
   "execution_count": 162,
   "id": "de1d7c9a",
   "metadata": {},
   "outputs": [
    {
     "name": "stderr",
     "output_type": "stream",
     "text": [
      "                                                                                \r"
     ]
    },
    {
     "data": {
      "text/plain": [
       "211432"
      ]
     },
     "execution_count": 162,
     "metadata": {},
     "output_type": "execute_result"
    }
   ],
   "source": [
    "joined_df.persist()\n",
    "joined_df.count()"
   ]
  },
  {
   "cell_type": "code",
   "execution_count": 75,
   "id": "bf580213",
   "metadata": {},
   "outputs": [
    {
     "name": "stdout",
     "output_type": "stream",
     "text": [
      "root\n",
      " |-- sid: integer (nullable = true)\n",
      " |-- sid_profile: integer (nullable = true)\n",
      " |-- post_id: string (nullable = true)\n",
      " |-- profile_id: integer (nullable = true)\n",
      " |-- cts: timestamp (nullable = true)\n",
      " |-- post_type: integer (nullable = true)\n",
      " |-- description: string (nullable = true)\n",
      " |-- numbr_likes: integer (nullable = true)\n",
      " |-- number_comments: integer (nullable = true)\n",
      " |-- location: map (nullable = false)\n",
      " |    |-- key: string\n",
      " |    |-- value: string (valueContainsNull = true)\n",
      "\n"
     ]
    }
   ],
   "source": [
    "#Convert columns to Map\n",
    "joined_df = joined_df.withColumn(\"location\",create_map(\n",
    "        lit(\"id\"),col(\"id\"),\n",
    "        lit(\"name\"),col(\"name\"),\n",
    "        lit(\"city\"),col(\"city\"),\n",
    "        lit(\"country\"),col(\"cd\")\n",
    "        )).drop(\"location_id\",\"id\",'name','city','cd')\n",
    "joined_df.printSchema()"
   ]
  },
  {
   "cell_type": "code",
   "execution_count": 76,
   "id": "1d09d1da",
   "metadata": {},
   "outputs": [
    {
     "name": "stdout",
     "output_type": "stream",
     "text": [
      "+----------------------------------------------------------------------------------------------------+\n",
      "|location                                                                                            |\n",
      "+----------------------------------------------------------------------------------------------------+\n",
      "|{id -> 45298, name -> KW Institute for Contemporary Art, city -> Berlin, Germany, country -> DE}    |\n",
      "|{id -> 133107, name -> New York Deli RVA, city -> Richmond, Virginia, country -> US}                |\n",
      "|{id -> 192201, name -> Lerkendal Stadion, city -> Trondheim, Norway, country -> NO}                 |\n",
      "|{id -> 200309, name -> The BOILEROOM, city -> Guildford, country -> GB}                             |\n",
      "|{id -> 259937, name -> Pembroke College Cambridge, city -> Cambridge, Cambridgeshire, country -> GB}|\n",
      "+----------------------------------------------------------------------------------------------------+\n",
      "only showing top 5 rows\n",
      "\n"
     ]
    }
   ],
   "source": [
    "joined_df.select('location').show(5,truncate=False)"
   ]
  },
  {
   "cell_type": "code",
   "execution_count": 77,
   "id": "41584bb0",
   "metadata": {},
   "outputs": [
    {
     "name": "stderr",
     "output_type": "stream",
     "text": [
      "                                                                                \r"
     ]
    },
    {
     "data": {
      "text/plain": [
       "DataFrame[sid: int, sid_profile: int, post_id: string, profile_id: int, cts: timestamp, post_type: int, description: string, numbr_likes: int, number_comments: int, location: map<string,string>]"
      ]
     },
     "execution_count": 77,
     "metadata": {},
     "output_type": "execute_result"
    }
   ],
   "source": [
    "joined_df.coalesce(1).write.json('data/last30_days_with_locs.json',header=True)\n",
    "joined_df.unpersist()"
   ]
  }
 ],
 "metadata": {
  "kernelspec": {
   "display_name": "Python 3.9 (tensorflow)",
   "language": "python",
   "name": "tensorflow"
  },
  "language_info": {
   "codemirror_mode": {
    "name": "ipython",
    "version": 3
   },
   "file_extension": ".py",
   "mimetype": "text/x-python",
   "name": "python",
   "nbconvert_exporter": "python",
   "pygments_lexer": "ipython3",
   "version": "3.10.6"
  },
  "toc": {
   "base_numbering": 1,
   "nav_menu": {},
   "number_sections": true,
   "sideBar": true,
   "skip_h1_title": false,
   "title_cell": "Table of Contents",
   "title_sidebar": "Contents",
   "toc_cell": false,
   "toc_position": {},
   "toc_section_display": true,
   "toc_window_display": false
  }
 },
 "nbformat": 4,
 "nbformat_minor": 5
}
