{
 "cells": [
  {
   "cell_type": "markdown",
   "id": "7a745724",
   "metadata": {},
   "source": [
    "# Historical data Processing"
   ]
  },
  {
   "cell_type": "markdown",
   "id": "c4a9390e",
   "metadata": {},
   "source": [
    "To process large amounts of data that we have stored, sometimes our local machine is not enough. So, the below notebook was uploaded on a Dataproc cluster on Google Cloud for processing.\n",
    "\n",
    "The Dataproc cluster consisted of 1 master node and 5 worker nodes (E2 -4CPU), and the processing was done much faster.\n",
    "\n",
    "The files were uploaded on a connected GCS bucket and were accessed from there.\n",
    "We could also query the data directly from Firestore (upload the access key for the DB), but Firestore would charge all the reads, so this option was not preferred, since the data was already stored in my local disk and not only in the Firestore DB.\n"
   ]
  },
  {
   "cell_type": "code",
   "execution_count": 1,
   "id": "24a2a9aa",
   "metadata": {
    "ExecuteTime": {
     "end_time": "2022-12-23T00:06:37.680074Z",
     "start_time": "2022-12-23T00:06:37.460961Z"
    }
   },
   "outputs": [],
   "source": [
    "import os, pandas as pd\n",
    "import numpy as np\n",
    "import datetime as dt\n",
    "import time\n",
    "\n",
    "from pyspark.context import SparkContext, SparkConf\n",
    "from pyspark.sql import *\n",
    "from pyspark.sql.types import *\n",
    "from pyspark.sql.functions import *"
   ]
  },
  {
   "cell_type": "code",
   "execution_count": 3,
   "id": "8f3a9462",
   "metadata": {},
   "outputs": [],
   "source": [
    "#create spark context\n",
    "conf = SparkConf().setAppName('final_project')#.setMaster('yarn')\n",
    "sc = SparkContext.getOrCreate(conf)\n",
    "spark = SparkSession(sc)"
   ]
  },
  {
   "cell_type": "markdown",
   "id": "9718f339",
   "metadata": {},
   "source": [
    "## Load Data"
   ]
  },
  {
   "cell_type": "markdown",
   "id": "0e63faf7",
   "metadata": {},
   "source": [
    "Loaded the data using below schemata to cast the data types. Loaded both in DF and RDD format."
   ]
  },
  {
   "cell_type": "code",
   "execution_count": 5,
   "id": "70bf5b08",
   "metadata": {},
   "outputs": [],
   "source": [
    "#Directory for the GCS bucket\n",
    "gcs = \"gs://final-project-372202/\""
   ]
  },
  {
   "cell_type": "code",
   "execution_count": 6,
   "id": "4bc256e0",
   "metadata": {
    "code_folding": [
     1
    ]
   },
   "outputs": [],
   "source": [
    "user_dir= gcs+'data/users.json'\n",
    "user_schema=StructType([\n",
    "    StructField('sid', LongType(), True),\n",
    "    StructField('profile_id', LongType(), True),\n",
    "    StructField('profile_name', StringType(), True),\n",
    "    StructField('firstname_lastname', StringType(), True),\n",
    "    StructField('description', StringType(), True),\n",
    "    StructField('following', IntegerType(), True),\n",
    "    StructField('followers', IntegerType(), True),\n",
    "    StructField('n_posts', IntegerType(), True),\n",
    "    StructField('url', StringType(), True),\n",
    "    StructField('cts', TimestampType(), True),\n",
    "    StructField('is_business_account', StringType(), True)\n",
    "])"
   ]
  },
  {
   "cell_type": "code",
   "execution_count": 7,
   "id": "41854474",
   "metadata": {
    "code_folding": [
     1
    ]
   },
   "outputs": [],
   "source": [
    "loc_dir= gcs+'data/locations.json'\n",
    "loc_schema=StructType([\n",
    "    StructField('sid', LongType(), True),\n",
    "    StructField('id', LongType(), True),\n",
    "    StructField('name', StringType(), True),\n",
    "    StructField('street', StringType(), True),\n",
    "    StructField('zip', StringType(), True),\n",
    "    StructField('city', StringType(), True),\n",
    "    StructField('region', StringType(), True),\n",
    "    StructField('cd', StringType(), True),\n",
    "    StructField('phone', StringType(), True),\n",
    "    StructField('aj_exact_city_match', StringType(), True),\n",
    "    StructField('aj_exact_country_match', StringType(), True),\n",
    "    StructField('blurb', StringType(), True),\n",
    "    StructField('dir_city_id', StringType(), True),\n",
    "    StructField('dir_city_name', StringType(), True),\n",
    "    StructField('dir_city_slug', StringType(), True),\n",
    "    StructField('dir_country_id', StringType(), True),\n",
    "    StructField('dir_country_name', StringType(), True),\n",
    "    StructField('lat', DoubleType(), True), \n",
    "    StructField('lng', DoubleType(), True),\n",
    "    StructField('primary_alias_on_fb', StringType(), True),\n",
    "    StructField('slug', StringType(), True),\n",
    "    StructField('website', StringType(), True),\n",
    "    StructField('cts', TimestampType(), True)\n",
    "])"
   ]
  },
  {
   "cell_type": "code",
   "execution_count": 8,
   "id": "13a7b900",
   "metadata": {
    "code_folding": [
     0
    ]
   },
   "outputs": [],
   "source": [
    "post_dir= gcs+'data/posts.json'\n",
    "post_schema = StructType([\n",
    "    StructField('sid', IntegerType(), False),\n",
    "    StructField('sid_profile', IntegerType(), False),\n",
    "    StructField('post_id', StringType(), False),\n",
    "    StructField('profile_id', IntegerType(), False),\n",
    "    StructField('location_id', IntegerType(), True),\n",
    "    StructField('cts', TimestampType(), False),\n",
    "    StructField('post_type', IntegerType(), True),\n",
    "    StructField('description', StringType(), True),\n",
    "    StructField('numbr_likes', IntegerType(), True),\n",
    "    StructField('number_comments', IntegerType(), True)\n",
    "])"
   ]
  },
  {
   "cell_type": "code",
   "execution_count": 9,
   "id": "d40ed776",
   "metadata": {},
   "outputs": [],
   "source": [
    "users_df=spark.read.json(user_dir,schema=user_schema)\n",
    "loc_df=spark.read.json(loc_dir,schema=loc_schema)\n",
    "posts_df=spark.read.json(post_dir,schema=post_schema)"
   ]
  },
  {
   "cell_type": "code",
   "execution_count": 10,
   "id": "2439175f",
   "metadata": {},
   "outputs": [
    {
     "data": {
      "text/plain": [
       "9"
      ]
     },
     "execution_count": 10,
     "metadata": {},
     "output_type": "execute_result"
    }
   ],
   "source": [
    "users_rdd=users_df.rdd\n",
    "users_rdd.getNumPartitions()"
   ]
  },
  {
   "cell_type": "code",
   "execution_count": 11,
   "id": "0613a1d3",
   "metadata": {},
   "outputs": [
    {
     "data": {
      "text/plain": [
       "4"
      ]
     },
     "execution_count": 11,
     "metadata": {},
     "output_type": "execute_result"
    }
   ],
   "source": [
    "loc_rdd=loc_df.rdd\n",
    "loc_rdd.getNumPartitions()"
   ]
  },
  {
   "cell_type": "code",
   "execution_count": 12,
   "id": "02aa87e4",
   "metadata": {},
   "outputs": [
    {
     "data": {
      "text/plain": [
       "131"
      ]
     },
     "execution_count": 12,
     "metadata": {},
     "output_type": "execute_result"
    }
   ],
   "source": [
    "posts_rdd=posts_df.rdd\n",
    "posts_rdd.getNumPartitions()"
   ]
  },
  {
   "cell_type": "markdown",
   "id": "d16b4a2f",
   "metadata": {},
   "source": [
    "## Data Processing"
   ]
  },
  {
   "cell_type": "markdown",
   "id": "9308f2f4",
   "metadata": {},
   "source": [
    "### RDD MapReduce"
   ]
  },
  {
   "cell_type": "markdown",
   "id": "8faf434d",
   "metadata": {},
   "source": [
    "Let's find which locations were the most popular each year. We will consider the number of likes, comments, and posts in each location to achieve this."
   ]
  },
  {
   "cell_type": "markdown",
   "id": "c9491879",
   "metadata": {},
   "source": [
    "First, we need to filter the posts that have the location saved and map each post document to < (year, location_id), (number_likes, number_comments, 1) > tuples."
   ]
  },
  {
   "cell_type": "code",
   "execution_count": 13,
   "id": "1da189c4",
   "metadata": {},
   "outputs": [],
   "source": [
    "posts_with_loc=posts_rdd.filter(lambda doc: doc.location_id!=None).filter(lambda doc: doc.cts !=None)"
   ]
  },
  {
   "cell_type": "code",
   "execution_count": 14,
   "id": "0f89f6cc",
   "metadata": {
    "scrolled": false
   },
   "outputs": [
    {
     "name": "stderr",
     "output_type": "stream",
     "text": [
      "                                                                                \r"
     ]
    },
    {
     "data": {
      "text/plain": [
       "20426081"
      ]
     },
     "execution_count": 14,
     "metadata": {},
     "output_type": "execute_result"
    }
   ],
   "source": [
    "posts_with_loc.persist()\n",
    "posts_with_loc.count()"
   ]
  },
  {
   "cell_type": "code",
   "execution_count": 16,
   "id": "e2a04657",
   "metadata": {},
   "outputs": [],
   "source": [
    "def map1(doc):\n",
    "    year=doc.cts.year\n",
    "    loc_id=doc.location_id\n",
    "    likes=doc.numbr_likes\n",
    "    comments=doc.number_comments\n",
    "    return (year,loc_id),[likes,comments,1]\n",
    "    "
   ]
  },
  {
   "cell_type": "code",
   "execution_count": 17,
   "id": "d920eee8",
   "metadata": {},
   "outputs": [],
   "source": [
    "from operator import add\n",
    "\n",
    "def add_lists(l1,l2):\n",
    "    l1=[0 if i is None else i for i in l1]\n",
    "    l2=[0 if i is None else i for i in l2]\n",
    "    \n",
    "    return list(map(add,l1,l2))"
   ]
  },
  {
   "cell_type": "code",
   "execution_count": 18,
   "id": "efac03bf",
   "metadata": {},
   "outputs": [],
   "source": [
    "results=posts_with_loc.map(map1)\\\n",
    "                            .reduceByKey(add_lists)\\\n",
    "                            .map(lambda t:( t[0][1],[t[0][0]]+t[1]))  #unpack with loc_id as key for joining"
   ]
  },
  {
   "cell_type": "code",
   "execution_count": 20,
   "id": "6292d9ed",
   "metadata": {
    "scrolled": false
   },
   "outputs": [
    {
     "name": "stderr",
     "output_type": "stream",
     "text": [
      "                                                                                \r"
     ]
    },
    {
     "data": {
      "text/plain": [
       "[(1029033463, [2017, 408, 27, 3]),\n",
       " (288813140, [2017, 279, 23, 2]),\n",
       " (265975287, [2017, 80, 0, 1]),\n",
       " (4222676, [2019, 320, 10, 26]),\n",
       " (333297550, [2018, 303, 24, 2])]"
      ]
     },
     "execution_count": 20,
     "metadata": {},
     "output_type": "execute_result"
    }
   ],
   "source": [
    "posts_with_loc.unpersist()\n",
    "results.take(5)"
   ]
  },
  {
   "cell_type": "code",
   "execution_count": 21,
   "id": "0885015c",
   "metadata": {},
   "outputs": [],
   "source": [
    "#Keep only relevant fields\n",
    "summarized_locs=loc_rdd.map(lambda doc: (doc.id,[ doc.city,doc.cd]))"
   ]
  },
  {
   "cell_type": "code",
   "execution_count": 22,
   "id": "5e1f9fc1",
   "metadata": {},
   "outputs": [
    {
     "data": {
      "text/plain": [
       "[(110296492939207, [None, None]),\n",
       " (274391278, ['Nová Vieska', 'SK']),\n",
       " (148885595789195, ['Kathmandu, Nepal', 'NP']),\n",
       " (263258277, ['Paris, France', 'FR']),\n",
       " (406147529857708, ['Burbank, California', 'US'])]"
      ]
     },
     "execution_count": 22,
     "metadata": {},
     "output_type": "execute_result"
    }
   ],
   "source": [
    "summarized_locs.take(5)"
   ]
  },
  {
   "cell_type": "code",
   "execution_count": 23,
   "id": "0ac1f3ff",
   "metadata": {},
   "outputs": [],
   "source": [
    "joined=results.join(summarized_locs)"
   ]
  },
  {
   "cell_type": "code",
   "execution_count": 24,
   "id": "63b13067",
   "metadata": {},
   "outputs": [
    {
     "name": "stderr",
     "output_type": "stream",
     "text": [
      "                                                                                \r"
     ]
    },
    {
     "data": {
      "text/plain": [
       "[(674262360, ([2019, 10263, 414, 29], ['Hermosillo, Sonora', 'MX'])),\n",
       " (674262360, ([2018, 275, 18, 2], ['Hermosillo, Sonora', 'MX'])),\n",
       " (674262360, ([2016, 149, 18, 1], ['Hermosillo, Sonora', 'MX'])),\n",
       " (674262360, ([2017, 269, 37, 2], ['Hermosillo, Sonora', 'MX'])),\n",
       " (5123790, ([2016, 763, 26, 4], ['Covington, Georgia', 'US']))]"
      ]
     },
     "execution_count": 24,
     "metadata": {},
     "output_type": "execute_result"
    }
   ],
   "source": [
    "joined.take(5)"
   ]
  },
  {
   "cell_type": "markdown",
   "id": "ae6ef3e0",
   "metadata": {},
   "source": [
    "Lets reduce one more time since many locations could be in the same city. (MR done 2 times so that we could join with fewer datapoints above)"
   ]
  },
  {
   "cell_type": "code",
   "execution_count": 25,
   "id": "cfa8c187",
   "metadata": {
    "scrolled": false
   },
   "outputs": [],
   "source": [
    "joined2=joined.map(lambda t: (tuple(t[1][1]+[t[1][0][0]]),t[1][0][1:]))\\ #key(city,country,year),values(likes,com,posts)\n",
    "                .reduceByKey(add_lists)\\\n",
    "                .map(lambda t: list(t[0])+t[1])\\\n",
    "                #.sortBy(lambda t: t[-1] if t[-1]!=None else 0,ascending=False)"
   ]
  },
  {
   "cell_type": "code",
   "execution_count": 26,
   "id": "26f5b087",
   "metadata": {},
   "outputs": [
    {
     "name": "stderr",
     "output_type": "stream",
     "text": [
      "                                                                                \r"
     ]
    },
    {
     "data": {
      "text/plain": [
       "[['Columbus, Ohio', 'US', 2019, 2001624, 65949, 9606],\n",
       " ['Maghar, Israel', 'IL', 2019, 2621, 282, 26],\n",
       " ['Addis Ababa, Ethiopia', 'ET', 2018, 214948, 1840, 107],\n",
       " ['Leeds', 'GB', 2017, 605531, 12885, 1663],\n",
       " ['Varadero, Cuba', 'CU', 2017, 40157, 961, 69]]"
      ]
     },
     "execution_count": 26,
     "metadata": {},
     "output_type": "execute_result"
    }
   ],
   "source": [
    "joined2.take(5)"
   ]
  },
  {
   "cell_type": "code",
   "execution_count": 27,
   "id": "6074fff1",
   "metadata": {},
   "outputs": [
    {
     "name": "stderr",
     "output_type": "stream",
     "text": [
      "                                                                                \r"
     ]
    },
    {
     "data": {
      "text/plain": [
       "362935"
      ]
     },
     "execution_count": 27,
     "metadata": {},
     "output_type": "execute_result"
    }
   ],
   "source": [
    "joined2.count()"
   ]
  },
  {
   "cell_type": "code",
   "execution_count": 28,
   "id": "2393cf76",
   "metadata": {},
   "outputs": [],
   "source": [
    "res_df=joined2.toDF()"
   ]
  },
  {
   "cell_type": "markdown",
   "id": "dc396fe6",
   "metadata": {},
   "source": [
    "We significantly reduced the datapoints from 42M to 362K rows. Let's save the results to disk for further analysis."
   ]
  },
  {
   "cell_type": "code",
   "execution_count": 32,
   "id": "577a25e4",
   "metadata": {},
   "outputs": [
    {
     "name": "stderr",
     "output_type": "stream",
     "text": [
      "                                                                                \r"
     ]
    }
   ],
   "source": [
    "res_df.coalesce(1).write.csv(gcs+'/data/MR_results.csv',header=True)"
   ]
  },
  {
   "cell_type": "markdown",
   "id": "060dd917",
   "metadata": {},
   "source": [
    "### Spark DataFrames"
   ]
  },
  {
   "cell_type": "markdown",
   "id": "caf64e9c",
   "metadata": {},
   "source": [
    "A similar procedure can be followed by using the Spark Dataframe API that utilizes the Catalyst optimizer. This way was way more intuitive and easy to process. This time lets also calculate the average number of likes per city and groupby months."
   ]
  },
  {
   "cell_type": "code",
   "execution_count": 33,
   "id": "8b815c50",
   "metadata": {},
   "outputs": [],
   "source": [
    "posts_df=posts_df.dropna(subset=['location_id'])"
   ]
  },
  {
   "cell_type": "code",
   "execution_count": 35,
   "id": "c12ec7a8",
   "metadata": {},
   "outputs": [
    {
     "name": "stdout",
     "output_type": "stream",
     "text": [
      "root\n",
      " |-- sid: integer (nullable = true)\n",
      " |-- sid_profile: integer (nullable = true)\n",
      " |-- post_id: string (nullable = true)\n",
      " |-- profile_id: integer (nullable = true)\n",
      " |-- location_id: integer (nullable = true)\n",
      " |-- cts: timestamp (nullable = true)\n",
      " |-- post_type: integer (nullable = true)\n",
      " |-- description: string (nullable = true)\n",
      " |-- numbr_likes: integer (nullable = true)\n",
      " |-- number_comments: integer (nullable = true)\n",
      "\n"
     ]
    }
   ],
   "source": [
    "posts_df.printSchema()"
   ]
  },
  {
   "cell_type": "code",
   "execution_count": 38,
   "id": "77ab2526",
   "metadata": {},
   "outputs": [],
   "source": [
    "#Summarize the locations to keep only the attributes we will use\n",
    "summarized_post_df=posts_df.select(['sid','location_id',year('cts'),month('cts'),'numbr_likes','number_comments'])\n",
    "summarized_locs_df=loc_df.select(['id','city','cd'])"
   ]
  },
  {
   "cell_type": "code",
   "execution_count": 41,
   "id": "54e38a8b",
   "metadata": {},
   "outputs": [
    {
     "name": "stdout",
     "output_type": "stream",
     "text": [
      "+--------+-----------+---------+----------+-----------+---------------+\n",
      "|     sid|location_id|year(cts)|month(cts)|numbr_likes|number_comments|\n",
      "+--------+-----------+---------+----------+-----------+---------------+\n",
      "|28370964|  282618748|     2018|        12|        138|             15|\n",
      "|28370957|  282618748|     2018|         8|        389|             10|\n",
      "|28370960|  282618748|     2018|         8|        198|             23|\n",
      "|28370961|  282618748|     2015|         5|        127|              8|\n",
      "|28370962|  282618748|     2017|         1|        154|              6|\n",
      "+--------+-----------+---------+----------+-----------+---------------+\n",
      "only showing top 5 rows\n",
      "\n",
      "+---------------+-------------------+----+\n",
      "|             id|               city|  cd|\n",
      "+---------------+-------------------+----+\n",
      "|110296492939207|               null|null|\n",
      "|      274391278|        Nová Vieska|  SK|\n",
      "|148885595789195|   Kathmandu, Nepal|  NP|\n",
      "|      263258277|      Paris, France|  FR|\n",
      "|406147529857708|Burbank, California|  US|\n",
      "+---------------+-------------------+----+\n",
      "only showing top 5 rows\n",
      "\n"
     ]
    }
   ],
   "source": [
    "summarized_post_df.show(5)\n",
    "summarized_locs_df.show(5)"
   ]
  },
  {
   "cell_type": "code",
   "execution_count": 42,
   "id": "89d1edf1",
   "metadata": {},
   "outputs": [],
   "source": [
    "#Join the two tables\n",
    "joined_df=summarized_post_df.join(summarized_locs_df,\n",
    "             summarized_post_df.location_id== summarized_locs_df.id,\n",
    "            how='inner')"
   ]
  },
  {
   "cell_type": "code",
   "execution_count": 43,
   "id": "67d668f9",
   "metadata": {},
   "outputs": [
    {
     "name": "stderr",
     "output_type": "stream",
     "text": [
      "[Stage 39:==================================================>     (20 + 2) / 22]\r"
     ]
    },
    {
     "name": "stdout",
     "output_type": "stream",
     "text": [
      "+---------------------------+\n",
      "|count(DISTINCT location_id)|\n",
      "+---------------------------+\n",
      "|                     618138|\n",
      "+---------------------------+\n",
      "\n"
     ]
    },
    {
     "name": "stderr",
     "output_type": "stream",
     "text": [
      "                                                                                \r"
     ]
    }
   ],
   "source": [
    "joined_df.select(countDistinct('location_id')).show()"
   ]
  },
  {
   "cell_type": "code",
   "execution_count": 45,
   "id": "9b63b73a",
   "metadata": {},
   "outputs": [
    {
     "name": "stderr",
     "output_type": "stream",
     "text": [
      "[Stage 47:>                                                         (0 + 1) / 1]\r"
     ]
    },
    {
     "name": "stdout",
     "output_type": "stream",
     "text": [
      "+--------+-----------+---------+----------+-----------+---------------+---+--------------------+---+\n",
      "|     sid|location_id|year(cts)|month(cts)|numbr_likes|number_comments| id|                city| cd|\n",
      "+--------+-----------+---------+----------+-----------+---------------+---+--------------------+---+\n",
      "| 7083806|         19|     2019|         3|         10|              0| 19|San Francisco, Ca...| US|\n",
      "| 7083807|         19|     2019|         3|         19|              0| 19|San Francisco, Ca...| US|\n",
      "| 4973895|         19|     2019|         3|        102|              4| 19|San Francisco, Ca...| US|\n",
      "| 6304808|         19|     2018|        12|        105|              3| 19|San Francisco, Ca...| US|\n",
      "|41835858|         19|     2019|         6|         14|              2| 19|San Francisco, Ca...| US|\n",
      "+--------+-----------+---------+----------+-----------+---------------+---+--------------------+---+\n",
      "only showing top 5 rows\n",
      "\n"
     ]
    },
    {
     "name": "stderr",
     "output_type": "stream",
     "text": [
      "                                                                                \r"
     ]
    }
   ],
   "source": [
    "joined_df.show(5)"
   ]
  },
  {
   "cell_type": "code",
   "execution_count": 57,
   "id": "6e4d1820",
   "metadata": {},
   "outputs": [],
   "source": [
    "#Calculate the aggregations\n",
    "\n",
    "agg_stats=joined_df.select(['year(cts)','month(cts)','city','cd','numbr_likes','number_comments'])\\\n",
    "                .groupBy(['year(cts)','month(cts)','city','cd'])\\\n",
    "                .agg(count(\"city\").alias(\"total_posts_per_city\"), \\\n",
    "                        sum(\"numbr_likes\").alias(\"total_likes\"),\\\n",
    "                        round(avg(\"numbr_likes\"),2).alias(\"avg_likes\"))\\\n",
    "                .filter(col('cd').like('__'))\\\n",
    "                .sort(desc('total_posts_per_city'))"
   ]
  },
  {
   "cell_type": "code",
   "execution_count": 58,
   "id": "5b5c9db6",
   "metadata": {},
   "outputs": [
    {
     "name": "stderr",
     "output_type": "stream",
     "text": [
      "[Stage 83:===========================================>            (17 + 4) / 22]\r"
     ]
    },
    {
     "name": "stdout",
     "output_type": "stream",
     "text": [
      "+---------+----------+--------------------+---+--------------------+-----------+---------+\n",
      "|year(cts)|month(cts)|                city| cd|total_posts_per_city|total_likes|avg_likes|\n",
      "+---------+----------+--------------------+---+--------------------+-----------+---------+\n",
      "|     2019|         5|      Moscow, Russia| RU|              182184|   64868094|    356.4|\n",
      "|     2019|         5|London, United Ki...| GB|              175010|   49667834|   283.95|\n",
      "|     2019|         3|  New York, New York| US|              143630|   51300433|   357.39|\n",
      "|     2019|         4|London, United Ki...| GB|              111596|   31503513|   282.48|\n",
      "|     2019|         4|      Moscow, Russia| RU|               95125|   43006660|   452.62|\n",
      "|     2019|         6|      Moscow, Russia| RU|               88128|   25869840|   293.76|\n",
      "|     2019|         4|  New York, New York| US|               84364|   22231446|   263.66|\n",
      "|     2019|         2|  New York, New York| US|               76779|   30469687|   397.11|\n",
      "|     2019|         5|  New York, New York| US|               76206|   24993226|   328.07|\n",
      "|     2019|         5|Saint Petersburg,...| RU|               71439|   14798588|   207.28|\n",
      "|     2019|         6|London, United Ki...| GB|               66697|   15267217|    229.0|\n",
      "|     2019|         3|London, United Ki...| GB|               54857|   23727470|   432.71|\n",
      "|     2019|         7|      Moscow, Russia| RU|               43074|   10320936|   239.93|\n",
      "|     2019|         1|  New York, New York| US|               36310|    9832968|   270.87|\n",
      "|     2019|         4|Saint Petersburg,...| RU|               36246|    9650969|    266.4|\n",
      "|     2019|         6|Saint Petersburg,...| RU|               34662|    6346759|   183.26|\n",
      "|     2019|         2|London, United Ki...| GB|               34626|   16853371|   486.95|\n",
      "|     2019|         3|      Moscow, Russia| RU|               33215|   12711458|   383.05|\n",
      "|     2019|         3|  Brooklyn, New York| US|               33079|    8660860|   261.97|\n",
      "|     2019|         7|London, United Ki...| GB|               33062|    9775510|    295.8|\n",
      "+---------+----------+--------------------+---+--------------------+-----------+---------+\n",
      "only showing top 20 rows\n",
      "\n"
     ]
    },
    {
     "name": "stderr",
     "output_type": "stream",
     "text": [
      "                                                                                \r"
     ]
    }
   ],
   "source": [
    "agg_stats.show()"
   ]
  },
  {
   "cell_type": "markdown",
   "id": "c78e01c3",
   "metadata": {},
   "source": [
    "Looks like that May 2019 in Moscow had the most posts, just above London's posts at the same month. Also, we can only see year=2019 in the top20 rows, which shows that instagram's usage was becoming higher each year. (2019 was the latest year in the dataset so it would contain more posts)\n",
    "\n",
    "More insights and visualizations can be found on a report I prepared on Google Looker at:  \n",
    "https://datastudio.google.com/reporting/e647d5ac-e2e2-437f-ac48-cb63d82fe382/page/p_zbw36zck2c"
   ]
  },
  {
   "cell_type": "code",
   "execution_count": 59,
   "id": "2c245cf5",
   "metadata": {},
   "outputs": [
    {
     "name": "stderr",
     "output_type": "stream",
     "text": [
      "                                                                                \r"
     ]
    }
   ],
   "source": [
    "agg_stats.coalesce(1).write.csv(gcs+'/data/agg_results.csv',header=True)"
   ]
  },
  {
   "cell_type": "code",
   "execution_count": 60,
   "id": "e1ce0aa0",
   "metadata": {},
   "outputs": [
    {
     "name": "stderr",
     "output_type": "stream",
     "text": [
      "                                                                                \r"
     ]
    },
    {
     "data": {
      "text/plain": [
       "1377836"
      ]
     },
     "execution_count": 60,
     "metadata": {},
     "output_type": "execute_result"
    }
   ],
   "source": [
    "agg_stats.count()"
   ]
  }
 ],
 "metadata": {
  "kernelspec": {
   "display_name": "Python 3.9 (tensorflow)",
   "language": "python",
   "name": "tensorflow"
  },
  "language_info": {
   "codemirror_mode": {
    "name": "ipython",
    "version": 3
   },
   "file_extension": ".py",
   "mimetype": "text/x-python",
   "name": "python",
   "nbconvert_exporter": "python",
   "pygments_lexer": "ipython3",
   "version": "3.10.6"
  },
  "toc": {
   "base_numbering": 1,
   "nav_menu": {},
   "number_sections": true,
   "sideBar": true,
   "skip_h1_title": false,
   "title_cell": "Table of Contents",
   "title_sidebar": "Contents",
   "toc_cell": false,
   "toc_position": {},
   "toc_section_display": true,
   "toc_window_display": false
  }
 },
 "nbformat": 4,
 "nbformat_minor": 5
}
